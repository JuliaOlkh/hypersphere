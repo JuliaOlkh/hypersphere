{
 "cells": [
  {
   "cell_type": "markdown",
   "metadata": {
    "collapsed": true
   },
   "source": [
    "Генерация точек, равномерно распределенных на сфере "
   ]
  },
  {
   "cell_type": "code",
   "execution_count": 3,
   "metadata": {
    "collapsed": false
   },
   "outputs": [],
   "source": [
    "import numpy as np\n",
    "import matplotlib.pyplot as plt\n",
    "import mpl_toolkits.mplot3d.axes3d as axes3d\n",
    "\n",
    "N = 600\n",
    "dim = 2\n",
    "\n",
    "norm = np.random.normal\n",
    "normal_deviates = norm(size=(dim, N))\n",
    "\n",
    "radius = np.sqrt((normal_deviates**2).sum(axis=0))\n",
    "points = normal_deviates/radius\n"
   ]
  },
  {
   "cell_type": "markdown",
   "metadata": {},
   "source": [
    "+ визуализация (если d < 4!)"
   ]
  },
  {
   "cell_type": "code",
   "execution_count": 4,
   "metadata": {
    "collapsed": false
   },
   "outputs": [
    {
     "ename": "SystemExit",
     "evalue": "0",
     "output_type": "error",
     "traceback": [
      "An exception has occurred, use %tb to see the full traceback.\n",
      "\u001b[0;31mSystemExit\u001b[0m\u001b[0;31m:\u001b[0m 0\n"
     ]
    },
    {
     "name": "stderr",
     "output_type": "stream",
     "text": [
      "To exit: use 'exit', 'quit', or Ctrl-D.\n"
     ]
    }
   ],
   "source": [
    "fig, ax = plt.subplots(subplot_kw=dict(projection='3d'))\n",
    "ax.scatter(*points)\n",
    "ax.set_aspect('equal')\n",
    "plt.show()"
   ]
  },
  {
   "cell_type": "code",
   "execution_count": null,
   "metadata": {
    "collapsed": true
   },
   "outputs": [],
   "source": [
    "def N_eps(eps, x, points):\n",
    "    n = 0\n",
    "    for p in points:\n",
    "        dist = np.linalg.norm(x-p)\n",
    "        if dist > 0 and dist <= eps:\n",
    "            n += 1\n",
    "    return n"
   ]
  },
  {
   "cell_type": "code",
   "execution_count": null,
   "metadata": {
    "collapsed": true
   },
   "outputs": [],
   "source": [
    "def calc_K(dim):\n",
    "    return math.gamma((dim+1)*1./2)/(math.gamma((dim)*1./2)*math.sqrt(math.pi))"
   ]
  },
  {
   "cell_type": "code",
   "execution_count": null,
   "metadata": {
    "collapsed": true
   },
   "outputs": [],
   "source": [
    "import math\n",
    " \n",
    "def eps(dim, N, K):\n",
    "    C = 2*math.pow(K, 1./(dim-1))\n",
    "    \n",
    "    return min([C*math.pow(N, -1./(dim-1)), 2])"
   ]
  },
  {
   "cell_type": "markdown",
   "metadata": {},
   "source": [
    "Зависимость Nε(X) от N при разных p"
   ]
  },
  {
   "cell_type": "code",
   "execution_count": null,
   "metadata": {
    "collapsed": false
   },
   "outputs": [],
   "source": [
    "def get_statistics(N_arrange, dim, X):\n",
    "\n",
    "    num_of_points = []\n",
    "    K = calc_K(dim)\n",
    "\n",
    "    for N in N_arrange:\n",
    "        print 'N =', N\n",
    "\n",
    "        num_of_points_experiments = []\n",
    "\n",
    "        curr_eps = eps(dim, N, K)\n",
    "        print \"epsilon =\", curr_eps\n",
    "        for experiment in range(50):\n",
    "\n",
    "            norm = np.random.normal\n",
    "            normal_deviates = norm(size=(dim, N))\n",
    "\n",
    "            radius = np.sqrt((normal_deviates**2).sum(axis=0))\n",
    "            points = normal_deviates/radius\n",
    "            points = points.transpose()\n",
    "\n",
    "            num_of_points_experiments.append(N_eps(curr_eps, X, points))\n",
    "\n",
    "        num_of_points.append(num_of_points_experiments)\n",
    "        \n",
    "    return num_of_points"
   ]
  },
  {
   "cell_type": "markdown",
   "metadata": {},
   "source": [
    "dim = 3"
   ]
  },
  {
   "cell_type": "code",
   "execution_count": null,
   "metadata": {
    "collapsed": false
   },
   "outputs": [],
   "source": [
    "dim = 3\n",
    "X = np.zeros(dim)\n",
    "X[0] = 1\n",
    "\n",
    "N_arrange = [10**i/2 for i in range(1,5) ] + [10**i for i in range(1,5)]\n",
    "\n",
    "num_of_points = get_statistics(N_arrange, dim, X)"
   ]
  },
  {
   "cell_type": "code",
   "execution_count": null,
   "metadata": {
    "collapsed": true
   },
   "outputs": [],
   "source": [
    "import matplotlib.pyplot as plt\n",
    "import numpy as np\n",
    "\n",
    "x = np.log10(N_arrange)\n",
    "y = np.log10([np.mean(i) for i in num_of_points]) \n",
    "e = np.log10([max(np.std(i), 1) for i in num_of_points])\n",
    "plt.errorbar(x, y, e, linestyle='None', marker='^')\n",
    "\n",
    "plt.show()"
   ]
  },
  {
   "cell_type": "markdown",
   "metadata": {},
   "source": [
    "dim = 20"
   ]
  },
  {
   "cell_type": "code",
   "execution_count": 8,
   "metadata": {
    "collapsed": false
   },
   "outputs": [
    {
     "name": "stdout",
     "output_type": "stream",
     "text": [
      "N = 500\n",
      "epsilon = 1.48568329278\n",
      "N = 5000\n",
      "epsilon = 1.31611749014\n",
      "N = 50000\n",
      "epsilon = 1.16590477679\n",
      "N = 500000\n",
      "epsilon = 1.03283632254\n",
      "N = 1000\n",
      "epsilon = 1.43246017144\n",
      "N = 10000\n",
      "epsilon = 1.26896889446\n",
      "N = 100000\n",
      "epsilon = 1.12413740167\n",
      "N = 1000000\n",
      "epsilon = 0.995835991995\n"
     ]
    }
   ],
   "source": [
    "dim = 20\n",
    "X = np.zeros(dim)\n",
    "X[0] = 1\n",
    "\n",
    "N_arrange = [10**i/2 for i in range(3,7) ] + [10**i for i in range(3,7)]\n",
    "\n",
    "num_of_points = get_statistics(N_arrange, dim, X)"
   ]
  },
  {
   "cell_type": "code",
   "execution_count": 9,
   "metadata": {
    "collapsed": true
   },
   "outputs": [],
   "source": [
    "x = np.log10(N_arrange)\n",
    "y = np.log10([np.mean(i) for i in num_of_points]) \n",
    "e = np.log10([max(np.std(i), 1) for i in num_of_points])\n",
    "\n",
    "plt.errorbar(x, y, e, linestyle='None', marker='^')\n",
    "#plt.scatter(x, y)\n",
    "plt.show()"
   ]
  },
  {
   "cell_type": "markdown",
   "metadata": {},
   "source": [
    "Линейная регрессия.\n",
    "\n",
    "Можно строить линейную регрессию по средним значениям, так как среднее минимизует сумму квадратов отклонения."
   ]
  },
  {
   "cell_type": "code",
   "execution_count": 10,
   "metadata": {
    "collapsed": false
   },
   "outputs": [
    {
     "name": "stdout",
     "output_type": "stream",
     "text": [
      "[ 0.44005252  0.        ]\n"
     ]
    }
   ],
   "source": [
    "from sklearn import linear_model\n",
    "reg = linear_model.LinearRegression()\n",
    "reg.fit([[j, 1] for j in np.log10(N_arrange)], np.log10([np.mean(i) for i in num_of_points]))\n",
    "print reg.coef_"
   ]
  },
  {
   "cell_type": "code",
   "execution_count": 18,
   "metadata": {
    "collapsed": false
   },
   "outputs": [
    {
     "name": "stdout",
     "output_type": "stream",
     "text": [
      "Mean squared error:  2.77333911992e-32\n"
     ]
    }
   ],
   "source": [
    "print \"Mean squared error: \", np.mean(reg.predict([[j, 1] for j in np.log10(N_arrange)]) - y) ** 2"
   ]
  },
  {
   "cell_type": "code",
   "execution_count": 11,
   "metadata": {
    "collapsed": false
   },
   "outputs": [],
   "source": [
    "plt.scatter(x, y,  color='black')\n",
    "#plt.errorbar(x, y, e, linestyle='None', marker='^')\n",
    "plt.plot(x, reg.predict([[j, 1] for j in np.log10(N_arrange)]), color='blue',\n",
    "         linewidth=3)\n",
    "\n",
    "#plt.xticks(())\n",
    "#plt.yticks(())\n",
    "\n",
    "plt.show()"
   ]
  },
  {
   "cell_type": "markdown",
   "metadata": {},
   "source": [
    "dim = 80"
   ]
  },
  {
   "cell_type": "code",
   "execution_count": 10,
   "metadata": {
    "collapsed": false
   },
   "outputs": [
    {
     "name": "stdout",
     "output_type": "stream",
     "text": [
      "N = 500\n",
      "epsilon = 1.87863211158\n",
      "N = 5000\n",
      "epsilon = 1.82466656283\n",
      "N = 50000\n",
      "epsilon = 1.77225122736\n",
      "N = 500000\n",
      "epsilon = 1.72134157378\n",
      "N = 1000\n",
      "epsilon = 1.86222106602\n",
      "N = 10000\n",
      "epsilon = 1.80872694064\n",
      "N = 100000\n",
      "epsilon = 1.75676948644\n",
      "N = 1000000\n",
      "epsilon = 1.70630456104\n"
     ]
    }
   ],
   "source": [
    "dim = 80\n",
    "X = np.zeros(dim)\n",
    "X[0] = 1\n",
    "\n",
    "N_arrange = [10**i/2 for i in range(3,7) ] + [10**i for i in range(3,7)]\n",
    "\n",
    "num_of_points = get_statistics(N_arrange, dim, X)"
   ]
  },
  {
   "cell_type": "markdown",
   "metadata": {},
   "source": [
    "Получаем эпсилон, почти полностью накрывающие шар"
   ]
  },
  {
   "cell_type": "code",
   "execution_count": 12,
   "metadata": {
    "collapsed": true
   },
   "outputs": [],
   "source": [
    "x = np.log10(N_arrange)\n",
    "y = np.log10([np.mean(i) for i in num_of_points]) \n",
    "e = np.log10([max(np.std(i), 1) for i in num_of_points])\n",
    "plt.errorbar(x, y, e, linestyle='None', marker='^')\n",
    "\n",
    "plt.show()"
   ]
  },
  {
   "cell_type": "code",
   "execution_count": 13,
   "metadata": {
    "collapsed": false
   },
   "outputs": [
    {
     "name": "stdout",
     "output_type": "stream",
     "text": [
      "[ 0.99999918  0.        ]\n"
     ]
    }
   ],
   "source": [
    "from sklearn import linear_model\n",
    "reg = linear_model.LinearRegression()\n",
    "reg.fit([[j, 1] for j in np.log10(N_arrange)], np.log10([np.mean(i) for i in num_of_points]))\n",
    "print reg.coef_"
   ]
  },
  {
   "cell_type": "markdown",
   "metadata": {},
   "source": [
    "Зависимость линейная, с коэффициэнтом почти 1, так как эпсилон большое - вмещает в себя почти всю сферу, значит и почти все точки"
   ]
  },
  {
   "cell_type": "code",
   "execution_count": 14,
   "metadata": {
    "collapsed": true
   },
   "outputs": [],
   "source": [
    "plt.scatter(x, y,  color='black')\n",
    "plt.plot(x, reg.predict([[j, 1] for j in np.log10(N_arrange)]), color='blue',\n",
    "         linewidth=3)\n",
    "\n",
    "plt.xticks(())\n",
    "plt.yticks(())\n",
    "\n",
    "plt.show()"
   ]
  },
  {
   "cell_type": "code",
   "execution_count": null,
   "metadata": {
    "collapsed": true
   },
   "outputs": [],
   "source": []
  }
 ],
 "metadata": {
  "kernelspec": {
   "display_name": "Python 2",
   "language": "python",
   "name": "python2"
  },
  "language_info": {
   "codemirror_mode": {
    "name": "ipython",
    "version": 2
   },
   "file_extension": ".py",
   "mimetype": "text/x-python",
   "name": "python",
   "nbconvert_exporter": "python",
   "pygments_lexer": "ipython2",
   "version": "2.7.10"
  }
 },
 "nbformat": 4,
 "nbformat_minor": 0
}
